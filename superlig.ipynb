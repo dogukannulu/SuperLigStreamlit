{
 "cells": [
  {
   "cell_type": "code",
   "execution_count": 86,
   "metadata": {},
   "outputs": [],
   "source": [
    "import pandas as pd\n",
    "import numpy as np\n",
    "import re"
   ]
  },
  {
   "cell_type": "code",
   "execution_count": 87,
   "metadata": {},
   "outputs": [],
   "source": [
    "pd.set_option('display.max_rows', 500)\n",
    "pd.set_option('display.max_columns', 500)\n",
    "pd.set_option('display.width', 1000)"
   ]
  },
  {
   "cell_type": "code",
   "execution_count": 88,
   "metadata": {},
   "outputs": [],
   "source": [
    "df = pd.read_excel('superlig_1521.xlsx')"
   ]
  },
  {
   "cell_type": "code",
   "execution_count": 89,
   "metadata": {},
   "outputs": [],
   "source": [
    "df = df.join(df['home_starting'].str.split('\\s+[0-9]+[.]\\s+', expand=True).add_prefix('h_starting'))\n",
    "df = df.join(df['away_starting'].str.split('\\s+[0-9]+[.]\\s+', expand=True).add_prefix('a_starting'))\n",
    "\n",
    "df = df.join(df['home_subs'].str.split('\\s+[0-9]+[.]\\s+', expand=True).add_prefix('h_sub'))\n",
    "df = df.join(df['away_subs'].str.split('\\s+[0-9]+[.]\\s+', expand=True).add_prefix('a_sub'))\n",
    "\n",
    "df = df.join(df['home_goals'].str.split('\\s+[(][A-Z][)]', expand=True).add_prefix('h_goal'))\n",
    "df = df.join(df['away_goals'].str.split('\\s+[(][A-Z][)]', expand=True).add_prefix('a_goal'))\n",
    "\n",
    "df = df.join(df['home_cards'].str.split('[.][a-z]+\\s+', expand=True).add_prefix('h_card'))\n",
    "df = df.join(df['away_cards'].str.split('[.][a-z]+\\s+', expand=True).add_prefix('a_card'))\n",
    "\n",
    "df = df.join(df['home_outs'].str.split('[.][a-z]+\\s+', expand=True).add_prefix('h_out'))\n",
    "df = df.join(df['away_outs'].str.split('[.][a-z]+\\s+', expand=True).add_prefix('a_out'))\n",
    "\n",
    "df = df.join(df['home_ins'].str.split('[.][a-z]+\\s+', expand=True).add_prefix('h_in'))\n",
    "df = df.join(df['away_ins'].str.split('[.][a-z]+\\s+', expand=True).add_prefix('a_in'))"
   ]
  },
  {
   "cell_type": "code",
   "execution_count": 90,
   "metadata": {},
   "outputs": [],
   "source": [
    "df = df.drop(['home_info','away_info','web-scraper-order', 'hafta-href', 'detail', 'detail-href','home_starting', 'home_subs','home_goals', 'home_cards', 'home_outs', 'home_ins','away_starting', 'away_subs','away_goals', 'away_cards', 'away_outs', 'away_ins'], axis=1)"
   ]
  },
  {
   "cell_type": "code",
   "execution_count": 91,
   "metadata": {},
   "outputs": [],
   "source": [
    "df[['stadium','location']] = df['stadium'].str.split('-',1,expand=True)"
   ]
  },
  {
   "cell_type": "code",
   "execution_count": 92,
   "metadata": {},
   "outputs": [],
   "source": [
    "df['ref_main'] = df['ref_main'].apply(lambda x: x.split('(')[0])\n",
    "df['ref_first_h'] = df['ref_first_h'].apply(lambda x: x.split('(')[0])\n",
    "df['ref_second_h'] = df['ref_second_h'].apply(lambda x: x.split('(')[0])"
   ]
  },
  {
   "cell_type": "code",
   "execution_count": 93,
   "metadata": {},
   "outputs": [],
   "source": [
    "df[['date','time']] = df['date'].str.split('-', 1, expand=True)"
   ]
  },
  {
   "cell_type": "code",
   "execution_count": 94,
   "metadata": {},
   "outputs": [],
   "source": [
    "df['h_starting0'] = df['h_starting0'].apply(lambda x: re.split('[.]\\s',x)[1])\n",
    "df['a_starting0'] = df['a_starting0'].apply(lambda x: re.split('[.]\\s',x)[1])\n",
    "df['h_sub0'] = df['h_sub0'].apply(lambda x: re.split('[.]\\s',x)[1])\n",
    "df['a_sub0'] = df['a_sub0'].apply(lambda x: re.split('[.]\\s',x)[1])"
   ]
  },
  {
   "cell_type": "code",
   "execution_count": 95,
   "metadata": {},
   "outputs": [],
   "source": [
    "df['exhibition'] = df[['home','away']].apply(lambda row: ' - '.join(row.values.astype(str)), axis=1)"
   ]
  },
  {
   "cell_type": "code",
   "execution_count": 96,
   "metadata": {},
   "outputs": [],
   "source": [
    "df['web-scraper-start-url'] = df['web-scraper-start-url'].replace(['https://www.tff.org/default.aspx?pageID=1467','https://www.tff.org/default.aspx?pageID=1501','https://www.tff.org/default.aspx?pageID=1529','https://www.tff.org/default.aspx?pageID=1413','https://www.tff.org/default.aspx?pageID=1440','https://www.tff.org/default.aspx?pageID=1382'],['2018/19','2019/20','2020/21','2016/17','2017/18','2015/16'])\n",
    "df = df.rename({'web-scraper-start-url': 'season'}, axis=1)"
   ]
  },
  {
   "cell_type": "code",
   "execution_count": 97,
   "metadata": {},
   "outputs": [],
   "source": [
    "startings = (df.melt(id_vars=['id','home','away','exhibition','season'], value_vars = ['h_starting0', 'h_starting1', 'h_starting2', 'h_starting3', 'h_starting4', 'h_starting5', 'h_starting6', 'h_starting7', 'h_starting8', 'h_starting9', 'h_starting10', 'a_starting0', 'a_starting1', 'a_starting2', 'a_starting3', 'a_starting4', 'a_starting5', 'a_starting6', 'a_starting7', 'a_starting8', 'a_starting9', 'a_starting10'],\n",
    "                 value_name='starting_player')\n",
    "         .sort_values('exhibition'))"
   ]
  },
  {
   "cell_type": "code",
   "execution_count": 98,
   "metadata": {},
   "outputs": [],
   "source": [
    "subs = (df.melt(id_vars=['id','home','away','exhibition','season'], value_vars = ['h_sub0', 'h_sub1', 'h_sub2', 'h_sub3', 'h_sub4', 'h_sub5', 'h_sub6', 'h_sub7', 'h_sub8', 'h_sub9', 'a_sub0', 'a_sub1', 'a_sub2', 'a_sub3', 'a_sub4', 'a_sub5', 'a_sub6', 'a_sub7', 'a_sub8', 'a_sub9'],\n",
    "                 value_name='sub_player')\n",
    "         .sort_values('exhibition'))\n",
    "\n",
    "subs = subs.dropna()"
   ]
  },
  {
   "cell_type": "code",
   "execution_count": 99,
   "metadata": {},
   "outputs": [],
   "source": [
    "goals = (df.melt(id_vars=['id','home','away','exhibition','season'], value_vars = ['h_goal0', 'h_goal1', 'h_goal2', 'h_goal3', 'h_goal4', 'h_goal5', 'h_goal6', 'h_goal7', 'a_goal0', 'a_goal1', 'a_goal2', 'a_goal3', 'a_goal4', 'a_goal5', 'a_goal6', 'a_goal7'],\n",
    "                 value_name='goal')\n",
    "         .sort_values(['exhibition','variable']))\n",
    "\n",
    "goals = goals.dropna()"
   ]
  },
  {
   "cell_type": "code",
   "execution_count": 43,
   "metadata": {},
   "outputs": [],
   "source": [
    "cards = (df.melt(id_vars=['id','home','away','exhibition','season'], value_vars = ['h_card0', 'h_card1', 'h_card2', 'h_card3', 'h_card4', 'h_card5', 'h_card6', 'h_card7', 'a_card0', 'a_card1', 'a_card2', 'a_card3', 'a_card4', 'a_card5', 'a_card6'],\n",
    "                 value_name='card')\n",
    "         .sort_values(['exhibition','variable']))\n",
    "\n",
    "cards = cards.dropna()"
   ]
  },
  {
   "cell_type": "code",
   "execution_count": 44,
   "metadata": {},
   "outputs": [],
   "source": [
    "changes = (df.melt(id_vars=['id','home','away','exhibition','season'], value_vars = ['h_out0', 'h_out1', 'h_out2', 'h_out3', 'h_out4', 'h_out5', 'a_out0', 'a_out1', 'a_out2', 'a_out3', 'a_out4', 'h_in0', 'h_in1', 'h_in2', 'h_in3', 'h_in4', 'a_in0', 'a_in1', 'a_in2', 'a_in3', 'a_in4'],\n",
    "                 value_name='change')\n",
    "         .sort_values(['exhibition','variable']))\n",
    "\n",
    "changes = changes.dropna()"
   ]
  },
  {
   "cell_type": "code",
   "execution_count": 45,
   "metadata": {},
   "outputs": [],
   "source": [
    "startings.to_csv('startings.csv', encoding='utf-8')\n",
    "subs.to_csv('subs.csv', encoding='utf-8')\n",
    "goals.to_csv('goals.csv', encoding='utf-8')\n",
    "cards.to_csv('cards.csv', encoding='utf-8')\n",
    "changes.to_csv('changes.csv', encoding='utf-8')"
   ]
  },
  {
   "cell_type": "code",
   "execution_count": 12,
   "metadata": {},
   "outputs": [],
   "source": [
    "df = df.drop(['h_starting0', 'h_starting1', 'h_starting2', 'h_starting3', 'h_starting4', 'h_starting5', 'h_starting6', 'h_starting7', 'h_starting8', 'h_starting9', 'h_starting10', 'a_starting0', 'a_starting1', 'a_starting2', 'a_starting3', 'a_starting4', 'a_starting5', 'a_starting6', 'a_starting7', 'a_starting8', 'a_starting9', 'a_starting10','h_sub0', 'h_sub1', 'h_sub2', 'h_sub3', 'h_sub4', 'h_sub5', 'h_sub6', 'h_sub7', 'h_sub8', 'h_sub9', 'a_sub0', 'a_sub1', 'a_sub2', 'a_sub3', 'a_sub4', 'a_sub5', 'a_sub6', 'a_sub7', 'a_sub8', 'a_sub9','h_goal0', 'h_goal1', 'h_goal2', 'h_goal3', 'h_goal4', 'h_goal5', 'h_goal6', 'h_goal7', 'a_goal0', 'a_goal1', 'a_goal2', 'a_goal3', 'a_goal4', 'a_goal5', 'a_goal6', 'a_goal7','h_card0', 'h_card1', 'h_card2', 'h_card3', 'h_card4', 'h_card5', 'h_card6', 'h_card7', 'a_card0', 'a_card1', 'a_card2', 'a_card3', 'a_card4', 'a_card5', 'a_card6','h_out0', 'h_out1', 'h_out2', 'h_out3', 'h_out4', 'h_out5', 'a_out0', 'a_out1', 'a_out2', 'a_out3', 'a_out4', 'h_in0', 'h_in1', 'h_in2', 'h_in3', 'h_in4', 'a_in0', 'a_in1', 'a_in2', 'a_in3', 'a_in4'], axis=1)"
   ]
  },
  {
   "cell_type": "code",
   "execution_count": 18,
   "metadata": {},
   "outputs": [
    {
     "data": {
      "text/html": [
       "<div>\n",
       "<style scoped>\n",
       "    .dataframe tbody tr th:only-of-type {\n",
       "        vertical-align: middle;\n",
       "    }\n",
       "\n",
       "    .dataframe tbody tr th {\n",
       "        vertical-align: top;\n",
       "    }\n",
       "\n",
       "    .dataframe thead th {\n",
       "        text-align: right;\n",
       "    }\n",
       "</style>\n",
       "<table border=\"1\" class=\"dataframe\">\n",
       "  <thead>\n",
       "    <tr style=\"text-align: right;\">\n",
       "      <th></th>\n",
       "      <th>id</th>\n",
       "      <th>season</th>\n",
       "      <th>hafta</th>\n",
       "      <th>home</th>\n",
       "      <th>away</th>\n",
       "      <th>home_score</th>\n",
       "      <th>away_score</th>\n",
       "      <th>stadium</th>\n",
       "      <th>date</th>\n",
       "      <th>ref_main</th>\n",
       "      <th>ref_first_h</th>\n",
       "      <th>ref_second_h</th>\n",
       "      <th>home_coach</th>\n",
       "      <th>away_coach</th>\n",
       "      <th>location</th>\n",
       "      <th>time</th>\n",
       "      <th>exhibition</th>\n",
       "    </tr>\n",
       "  </thead>\n",
       "  <tbody>\n",
       "    <tr>\n",
       "      <th>0</th>\n",
       "      <td>0</td>\n",
       "      <td>2018/19</td>\n",
       "      <td>4</td>\n",
       "      <td>AYTEMİZ ALANYASPOR</td>\n",
       "      <td>GÖZTEPE A.Ş.</td>\n",
       "      <td>1</td>\n",
       "      <td>0</td>\n",
       "      <td>BAHÇEŞEHİR OKULLARI STADYUMU</td>\n",
       "      <td>1.09.2018</td>\n",
       "      <td>YAŞAR KEMAL UĞURLU</td>\n",
       "      <td>MUSTAFA SÖNMEZ</td>\n",
       "      <td>SERKAN ÇİMEN</td>\n",
       "      <td>MESUT BAKKAL</td>\n",
       "      <td>BAYRAM KADİR BEKTAŞ</td>\n",
       "      <td>ANTALYA - ALANYA</td>\n",
       "      <td>21:45</td>\n",
       "      <td>AYTEMİZ ALANYASPOR - GÖZTEPE A.Ş.</td>\n",
       "    </tr>\n",
       "    <tr>\n",
       "      <th>1</th>\n",
       "      <td>1</td>\n",
       "      <td>2018/19</td>\n",
       "      <td>18</td>\n",
       "      <td>AYTEMİZ ALANYASPOR</td>\n",
       "      <td>DEMİR GRUP SİVASSPOR</td>\n",
       "      <td>2</td>\n",
       "      <td>0</td>\n",
       "      <td>BAHÇEŞEHİR OKULLARI STADYUMU</td>\n",
       "      <td>20.01.2019</td>\n",
       "      <td>METE KALKAVAN</td>\n",
       "      <td>ESAT SANCAKTAR</td>\n",
       "      <td>SÜLEYMAN ÖZAY</td>\n",
       "      <td>ALİ RIZA SERGEN YALÇIN</td>\n",
       "      <td>ERSEL UZĞUR</td>\n",
       "      <td>ANTALYA - ALANYA</td>\n",
       "      <td>16:00</td>\n",
       "      <td>AYTEMİZ ALANYASPOR - DEMİR GRUP SİVASSPOR</td>\n",
       "    </tr>\n",
       "    <tr>\n",
       "      <th>2</th>\n",
       "      <td>2</td>\n",
       "      <td>2018/19</td>\n",
       "      <td>12</td>\n",
       "      <td>KAYSERİSPOR</td>\n",
       "      <td>GALATASARAY A.Ş.</td>\n",
       "      <td>0</td>\n",
       "      <td>3</td>\n",
       "      <td>BÜYÜKŞEHİR BELEDİYESİ KADİR HAS</td>\n",
       "      <td>10.11.2018</td>\n",
       "      <td>ÜMİT ÖZTÜRK</td>\n",
       "      <td>İSMAİL ŞENCAN</td>\n",
       "      <td>OSMAN GÖKHAN BİLİR</td>\n",
       "      <td>ERTUĞRUL SAĞLAM</td>\n",
       "      <td>NaN</td>\n",
       "      <td>KAYSERİ</td>\n",
       "      <td>19:00</td>\n",
       "      <td>KAYSERİSPOR - GALATASARAY A.Ş.</td>\n",
       "    </tr>\n",
       "    <tr>\n",
       "      <th>3</th>\n",
       "      <td>3</td>\n",
       "      <td>2018/19</td>\n",
       "      <td>3</td>\n",
       "      <td>KAYSERİSPOR</td>\n",
       "      <td>EVKUR YENİ MALATYASPOR</td>\n",
       "      <td>0</td>\n",
       "      <td>0</td>\n",
       "      <td>BÜYÜKŞEHİR BELEDİYESİ KADİR HAS</td>\n",
       "      <td>25.08.2018</td>\n",
       "      <td>ALPER ULUSOY</td>\n",
       "      <td>VOLKAN AHMET NARİNÇ</td>\n",
       "      <td>İBRAHİM BOZBEY</td>\n",
       "      <td>ERTUĞRUL SAĞLAM</td>\n",
       "      <td>EROL BULUT</td>\n",
       "      <td>KAYSERİ</td>\n",
       "      <td>21:45</td>\n",
       "      <td>KAYSERİSPOR - EVKUR YENİ MALATYASPOR</td>\n",
       "    </tr>\n",
       "    <tr>\n",
       "      <th>4</th>\n",
       "      <td>4</td>\n",
       "      <td>2018/19</td>\n",
       "      <td>28</td>\n",
       "      <td>ÇAYKUR RİZESPOR A.Ş.</td>\n",
       "      <td>GÖZTEPE A.Ş.</td>\n",
       "      <td>1</td>\n",
       "      <td>0</td>\n",
       "      <td>ÇAYKUR DİDİ</td>\n",
       "      <td>13.04.2019</td>\n",
       "      <td>YAŞAR KEMAL UĞURLU</td>\n",
       "      <td>MEHMET CEM SATMAN</td>\n",
       "      <td>MUSTAFA SÖNMEZ</td>\n",
       "      <td>OKAN BURUK</td>\n",
       "      <td>TAMER TUNA</td>\n",
       "      <td>RİZE</td>\n",
       "      <td>16:00</td>\n",
       "      <td>ÇAYKUR RİZESPOR A.Ş. - GÖZTEPE A.Ş.</td>\n",
       "    </tr>\n",
       "  </tbody>\n",
       "</table>\n",
       "</div>"
      ],
      "text/plain": [
       "   id   season  hafta                  home                    away  home_score  away_score                           stadium         date            ref_main          ref_first_h        ref_second_h              home_coach            away_coach           location    time                                 exhibition\n",
       "0   0  2018/19      4    AYTEMİZ ALANYASPOR            GÖZTEPE A.Ş.           1           0     BAHÇEŞEHİR OKULLARI STADYUMU    1.09.2018   YAŞAR KEMAL UĞURLU       MUSTAFA SÖNMEZ        SERKAN ÇİMEN            MESUT BAKKAL   BAYRAM KADİR BEKTAŞ   ANTALYA - ALANYA   21:45          AYTEMİZ ALANYASPOR - GÖZTEPE A.Ş.\n",
       "1   1  2018/19     18    AYTEMİZ ALANYASPOR    DEMİR GRUP SİVASSPOR           2           0     BAHÇEŞEHİR OKULLARI STADYUMU   20.01.2019        METE KALKAVAN       ESAT SANCAKTAR       SÜLEYMAN ÖZAY  ALİ RIZA SERGEN YALÇIN           ERSEL UZĞUR   ANTALYA - ALANYA   16:00  AYTEMİZ ALANYASPOR - DEMİR GRUP SİVASSPOR\n",
       "2   2  2018/19     12           KAYSERİSPOR        GALATASARAY A.Ş.           0           3  BÜYÜKŞEHİR BELEDİYESİ KADİR HAS   10.11.2018          ÜMİT ÖZTÜRK        İSMAİL ŞENCAN  OSMAN GÖKHAN BİLİR         ERTUĞRUL SAĞLAM                   NaN            KAYSERİ   19:00             KAYSERİSPOR - GALATASARAY A.Ş.\n",
       "3   3  2018/19      3           KAYSERİSPOR  EVKUR YENİ MALATYASPOR           0           0  BÜYÜKŞEHİR BELEDİYESİ KADİR HAS   25.08.2018         ALPER ULUSOY  VOLKAN AHMET NARİNÇ      İBRAHİM BOZBEY         ERTUĞRUL SAĞLAM            EROL BULUT            KAYSERİ   21:45       KAYSERİSPOR - EVKUR YENİ MALATYASPOR\n",
       "4   4  2018/19     28  ÇAYKUR RİZESPOR A.Ş.            GÖZTEPE A.Ş.           1           0                      ÇAYKUR DİDİ   13.04.2019   YAŞAR KEMAL UĞURLU    MEHMET CEM SATMAN      MUSTAFA SÖNMEZ              OKAN BURUK            TAMER TUNA               RİZE   16:00        ÇAYKUR RİZESPOR A.Ş. - GÖZTEPE A.Ş."
      ]
     },
     "execution_count": 18,
     "metadata": {},
     "output_type": "execute_result"
    }
   ],
   "source": [
    "df.head()"
   ]
  },
  {
   "cell_type": "code",
   "execution_count": 19,
   "metadata": {},
   "outputs": [],
   "source": [
    "df.to_csv('raw_data.csv', encoding='utf-8')"
   ]
  }
 ],
 "metadata": {
  "kernelspec": {
   "display_name": "Python 3",
   "language": "python",
   "name": "python3"
  },
  "language_info": {
   "codemirror_mode": {
    "name": "ipython",
    "version": 3
   },
   "file_extension": ".py",
   "mimetype": "text/x-python",
   "name": "python",
   "nbconvert_exporter": "python",
   "pygments_lexer": "ipython3",
   "version": "3.8.5"
  }
 },
 "nbformat": 4,
 "nbformat_minor": 2
}
